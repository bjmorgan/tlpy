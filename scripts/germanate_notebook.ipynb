{
 "cells": [
  {
   "cell_type": "code",
   "execution_count": 1,
   "metadata": {
    "collapsed": true
   },
   "outputs": [],
   "source": [
    "%matplotlib inline\n",
    "\n",
    "import matplotlib\n",
    "import numpy as np\n",
    "import matplotlib.pyplot as plt\n",
    "\n",
    "import numpy as np"
   ]
  },
  {
   "cell_type": "code",
   "execution_count": 2,
   "metadata": {
    "collapsed": true
   },
   "outputs": [],
   "source": [
    "from tlpy.host import Host\n",
    "from tlpy.defect import Defect"
   ]
  },
  {
   "cell_type": "code",
   "execution_count": 3,
   "metadata": {
    "collapsed": true
   },
   "outputs": [],
   "source": [
    "elemental_energies = { 'Ge' : -4.48604,\n",
    "                       'P'  : -5.18405,\n",
    "                       'O'  : -4.54934575 }"
   ]
  },
  {
   "cell_type": "code",
   "execution_count": 4,
   "metadata": {
    "collapsed": true
   },
   "outputs": [],
   "source": [
    "host = Host( energy = -2884.79313425,\n",
    "             vbm = 0.4657,\n",
    "             cbm = 4.0154,\n",
    "             elemental_energies = elemental_energies,\n",
    "             correction_scaling = 0.099720981 )"
   ]
  },
  {
   "cell_type": "code",
   "execution_count": 5,
   "metadata": {
    "collapsed": true
   },
   "outputs": [],
   "source": [
    "chemical_potential_limits = {}\n",
    "\n",
    "chemical_potential_limits[ 'A' ] = { 'Ge' : -4.8746,\n",
    "                                     'P'  : -8.165,\n",
    "                                     'O'  :  0.0 }\n",
    "\n",
    "chemical_potential_limits[ 'B' ] = { 'Ge' : -4.8664,\n",
    "                                     'P'  : -8.718,\n",
    "                                     'O'  :  0.0 }\n",
    "\n",
    "chemical_potential_limits[ 'C' ] = { 'Ge' : 0.0,\n",
    "                                     'P'  : -2.0718,\n",
    "                                     'O'  : -2.4373 }\n",
    "\n",
    "chemical_potential_limits[ 'D' ] = { 'Ge' : 0.0,\n",
    "                                     'P'  : -2.0888,\n",
    "                                     'O'  : -2.4332 }"
   ]
  },
  {
   "cell_type": "code",
   "execution_count": 6,
   "metadata": {
    "collapsed": false
   },
   "outputs": [],
   "source": [
    "VO1 = Defect( 'V_O1', stoichiometry = { 'O' : -1 }, host = host, site = 'O' )\n",
    "VO1.add_charge_state(  0, -2876.05861202 )\n",
    "VO1.add_charge_state( +1, -2877.36415986 )\n",
    "VO1.add_charge_state( +2, -2880.33856625 )\n",
    "\n",
    "VO2 = Defect( 'V_O2', stoichiometry = { 'O' : -1 }, host = host, site = 'O' )\n",
    "VO2.add_charge_state( 0, -2877.91757552 )\n",
    "VO2.add_charge_state( +1, -2878.40444833 )\n",
    "VO2.add_charge_state( +2, -2878.85619152 )\n",
    "\n",
    "VO3 = Defect( 'V_O3', stoichiometry = { 'O' : -1 }, host = host, site = 'O' )\n",
    "VO3.add_charge_state(  0, -2876.646 )\n",
    "VO3.add_charge_state( +1, -2877.139 )\n",
    "VO3.add_charge_state( +2, -2877.594 )\n",
    "\n",
    "VO4 = Defect( 'V_O4', stoichiometry = { 'O' : -1 }, host = host, site = 'O' )\n",
    "VO4.add_charge_state(  0, -2876.170 )\n",
    "VO4.add_charge_state( +1, -2877.217 )\n",
    "VO4.add_charge_state( +2, -2880.752 )\n",
    "\n",
    "VO5 = Defect( 'V_O5', stoichiometry = { 'O' : -1 }, host = host, site = 'O' )\n",
    "VO5.add_charge_state(  0, -2876.028 )\n",
    "VO5.add_charge_state( +1, -2877.561 )\n",
    "VO5.add_charge_state( +2, -2879.462 )\n",
    "\n",
    "Oi = Defect( 'O_i', stoichiometry = { 'O' : +1 }, host = host, site = 'i' )\n",
    "Oi.add_charge_state(  0, -2887.757 )\n",
    "Oi.add_charge_state( -1, -2885.340 )\n",
    "Oi.add_charge_state( -2, -2882.347 )\n",
    "\n",
    "VGe1 = Defect( 'V_Ge1', stoichiometry = { 'Ge' : -1 }, host = host, site = 'Ge' )\n",
    "VGe1.add_charge_state(  0, -2870.216817 )\n",
    "VGe1.add_charge_state( -1, -2868.426975 )\n",
    "VGe1.add_charge_state( -2, -2866.739624 )\n",
    "VGe1.add_charge_state( -3, -2864.304834 )\n",
    "VGe1.add_charge_state( -4, -2861.29928 )\n",
    "\n",
    "VGe2 = Defect( 'V_Ge2', stoichiometry = { 'Ge' : -1 }, host = host, site = 'Ge' )\n",
    "VGe2.add_charge_state(  0, -2867.345547 )\n",
    "VGe2.add_charge_state( -1, -2867.211323 )\n",
    "VGe2.add_charge_state( -2, -2866.265491 )\n",
    "VGe2.add_charge_state( -3, -2864.710182 )\n",
    "VGe1.add_charge_state( -4, -2862.476172 )\n",
    "\n",
    "VGe3 = Defect( 'V_Ge3', stoichiometry = { 'Ge' : -1 }, host = host, site = 'Ge' )\n",
    "VGe3.add_charge_state(  0, -2869.32676 )\n",
    "VGe3.add_charge_state( -1, -2868.426748 )\n",
    "VGe3.add_charge_state( -2, -2866.739636 )\n",
    "VGe3.add_charge_state( -3, -2864.294208 )\n",
    "VGe3.add_charge_state( -4, -2861.300372 )\n",
    "\n",
    "VP = Defect( 'V_P', stoichiometry = { 'P' : -1 }, host = host, site = 'P' )\n",
    "VP.add_charge_state(  0, -2864.292 )\n",
    "VP.add_charge_state( -1, -2863.078 )\n",
    "VP.add_charge_state( -2, -2860.643 )\n",
    "VP.add_charge_state( -3, -2857.421 )\n",
    "VP.add_charge_state( -4, -2853.678 )\n",
    "VP.add_charge_state( -5, -2849.884 )\n",
    "\n",
    "PGe1 = Defect( 'PGe1', stoichiometry = { 'P' : +1, 'Ge' : -1 }, host = host, site = 'Ge1' )\n",
    "PGe1.add_charge_state(  0, -2885.223 )\n",
    "PGe1.add_charge_state( +1, -2889.005 )\n",
    "\n",
    "PGe2 = Defect( 'PGe2', stoichiometry = { 'P' : +1, 'Ge' : -1 }, host = host, site = 'Ge2' )\n",
    "PGe2.add_charge_state(  0, -2883.819 )\n",
    "PGe2.add_charge_state( +1, -2887.755 )\n",
    "\n",
    "PGe3 = Defect( 'PGe3', stoichiometry = { 'P' : +1, 'Ge' : -1 }, host = host, site = 'Ge3' )\n",
    "PGe3.add_charge_state(  0, -2883.874 )\n",
    "PGe3.add_charge_state( +1, -2887.826 )\n",
    "\n",
    "GeP = Defect( 'GeP', stoichiometry = { 'P' : -1, 'Ge' : +1 }, host = host, site = 'P' )\n",
    "GeP.add_charge_state(  0, -2879.026 )\n",
    "GeP.add_charge_state( -1, -2878.217 )\n",
    "\n",
    "VPO4 = Defect( 'VPO4', stoichiometry = { 'P' : -1, 'O' : -4 }, host = host, site = 'P' )\n",
    "VPO4.add_charge_state(  0, -2846.845 )\n",
    "VPO4.add_charge_state( +1, -2850.335 )\n",
    "VPO4.add_charge_state( +2, -2851.6172 )\n",
    "VPO4.add_charge_state( +3, -2854.244 )\n",
    "\n",
    "defects = [ VO1, VO2, VO3, VO4, VO5, Oi, VGe1, VGe2, VGe3, VP, PGe1, PGe2, PGe3, GeP, VPO4 ]"
   ]
  },
  {
   "cell_type": "code",
   "execution_count": 7,
   "metadata": {
    "collapsed": false
   },
   "outputs": [],
   "source": [
    "mu = chemical_potential_limits[ 'D' ]"
   ]
  },
  {
   "cell_type": "code",
   "execution_count": 8,
   "metadata": {
    "collapsed": false
   },
   "outputs": [
    {
     "data": {
      "image/png": "[encoded data removed]",
      "text/plain": [
       "<matplotlib.figure.Figure at 0x7f572cf8bc50>"
      ]
     },
     "metadata": {},
     "output_type": "display_data"
    }
   ],
   "source": [
    "for d in defects:\n",
    "    tl_profile = d.matplotlib_data( delta_mu = mu, ef_min = 0.0, ef_max = host.fundamental_gap )\n",
    "    plt.plot( tl_profile[0], tl_profile[1] )"
   ]
  },
  {
   "cell_type": "code",
   "execution_count": null,
   "metadata": {
    "collapsed": true
   },
   "outputs": [],
   "source": []
  }
 ],
 "metadata": {
  "kernelspec": {
   "display_name": "Python 3",
   "language": "python",
   "name": "python3"
  },
  "language_info": {
   "codemirror_mode": {
    "name": "ipython",
    "version": 3
   },
   "file_extension": ".py",
   "mimetype": "text/x-python",
   "name": "python",
   "nbconvert_exporter": "python",
   "pygments_lexer": "ipython3",
   "version": "3.4.3"
  }
 },
 "nbformat": 4,
 "nbformat_minor": 0
}
